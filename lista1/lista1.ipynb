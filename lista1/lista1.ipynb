{
 "cells": [
  {
   "cell_type": "code",
   "execution_count": 190,
   "metadata": {},
   "outputs": [
    {
     "data": {
      "text/plain": [
       "'\\nimport osmnx as ox\\nox.config(log_console=True, use_cache=True)\\nox.__version__\\n'"
      ]
     },
     "execution_count": 190,
     "metadata": {},
     "output_type": "execute_result"
    }
   ],
   "source": [
    "import math\n",
    "\n",
    "import scipy\n",
    "import numpy as np\n",
    "import pandas as pd\n",
    "import networkx as nx\n",
    "\n",
    "import matplotlib.pyplot as plt\n",
    "import seaborn as sns\n",
    "%matplotlib inline\n",
    "sns.set()\n",
    "\n",
    "from scipy.stats import pearsonr\n",
    "\"\"\"\n",
    "import osmnx as ox\n",
    "ox.config(log_console=True, use_cache=True)\n",
    "ox.__version__\n",
    "\"\"\""
   ]
  },
  {
   "cell_type": "code",
   "execution_count": 2,
   "metadata": {
    "code_folding": []
   },
   "outputs": [],
   "source": [
    "def create_pdf_network():\n",
    "    graph = nx.Graph()\n",
    "    graph.add_edge(1, 4, weight=1)\n",
    "    graph.add_edge(1, 2, weight=1)\n",
    "    graph.add_edge(4, 2, weight=1)\n",
    "    graph.add_edge(2, 3, weight=1)\n",
    "    graph.add_edge(4, 3, weight=1)\n",
    "    graph.add_edge(3, 6, weight=1)\n",
    "    graph.add_edge(3, 7, weight=1)\n",
    "    graph.add_edge(3, 5, weight=1)\n",
    "    graph.add_edge(6, 7, weight=1)\n",
    "    \n",
    "    graph = graph.to_undirected()\n",
    "    graph.remove_edges_from(graph.selfloop_edges())\n",
    "    \n",
    "    return graph\n",
    "\n"
   ]
  },
  {
   "cell_type": "code",
   "execution_count": 3,
   "metadata": {
    "code_folding": [
     0
    ]
   },
   "outputs": [],
   "source": [
    "def visualize(G, big=False):\n",
    "    if big:\n",
    "        plt.figure(figsize=(12, 8))\n",
    "    labels = G.nodes()\n",
    "    pos=nx.spring_layout(G)\n",
    "    nx.draw_networkx(G, with_labels=True, nodecolor='r', edge_color='b', \n",
    "            node_size=500, font_size=16, pos=pos, width=6)   # default spring_layout\n",
    "    new_labels = {(x,y): z[\"weight\"] for x, y, z in graph.edges(data=True)}\n",
    "    # use default edge labels\n",
    "    nx.draw_networkx_edge_labels(G,pos, edge_labels=new_labels)\n",
    "    plt.show(True)"
   ]
  },
  {
   "cell_type": "markdown",
   "metadata": {},
   "source": [
    "\n",
    "\n",
    "- - - \n",
    "\n",
    "<br>\n",
    "<br>\n",
    "<br>\n",
    "<br>\n",
    "<br>\n",
    "<br>\n",
    "<br>\n",
    "<br>\n",
    "<br>\n",
    "<br>\n",
    "<br>\n",
    "<br>"
   ]
  },
  {
   "cell_type": "markdown",
   "metadata": {},
   "source": [
    "# Q1"
   ]
  },
  {
   "cell_type": "markdown",
   "metadata": {},
   "source": [
    "## a) Degree distribution,"
   ]
  },
  {
   "cell_type": "code",
   "execution_count": 4,
   "metadata": {},
   "outputs": [],
   "source": [
    "def degree_distribution(G):\n",
    "    vk = dict(G.degree())\n",
    "    vk = list(vk.values())  # we get only the degree values\n",
    "    vk = np.array(vk)\n",
    "    maxk = np.max(vk)\n",
    "    mink = np.min(vk)\n",
    "    kvalues= np.arange(0,maxk+1) # possible values of k\n",
    "    Pk = np.zeros(maxk+1) # P(k)\n",
    "    for k in vk:\n",
    "        Pk[k] = Pk[k] + 1\n",
    "    Pk = Pk/sum(Pk) # the sum of the elements of P(k) must to be equal to one\n",
    "    return kvalues, Pk"
   ]
  },
  {
   "cell_type": "code",
   "execution_count": 6,
   "metadata": {},
   "outputs": [],
   "source": [
    "graph = create_pdf_network()"
   ]
  },
  {
   "cell_type": "code",
   "execution_count": 26,
   "metadata": {},
   "outputs": [],
   "source": [
    "def plot_degree_dist(graph, use_log_scale=False, skip_plot=False):\n",
    "    ks, Pk = degree_distribution(graph)\n",
    "    if not skip_plot:\n",
    "        fig = plt.subplot(1,1,1)\n",
    "        if use_log_scale:\n",
    "            fig.set_xscale('log')\n",
    "            fig.set_yscale('log')\n",
    "\n",
    "        plt.plot(ks,Pk,'bo')\n",
    "        plt.xlabel(\"k\", fontsize=20)\n",
    "        plt.ylabel(\"P(k)\", fontsize=20)\n",
    "        plt.title(\"Degree distribution\", fontsize=20)\n",
    "        #plt.grid(True)\n",
    "        plt.savefig('degree_dist.eps') #save the figure into a file\n",
    "        plt.show(True)\n",
    "    return ks, Pk"
   ]
  },
  {
   "cell_type": "code",
   "execution_count": 27,
   "metadata": {},
   "outputs": [
    {
     "data": {
      "image/png": "[encoded data removed]",
      "text/plain": [
       "<Figure size 432x288 with 1 Axes>"
      ]
     },
     "metadata": {},
     "output_type": "display_data"
    },
    {
     "data": {
      "text/plain": [
       "(array([0, 1, 2, 3, 4, 5]),\n",
       " array([0.        , 0.14285714, 0.42857143, 0.28571429, 0.        ,\n",
       "        0.14285714]))"
      ]
     },
     "execution_count": 27,
     "metadata": {},
     "output_type": "execute_result"
    }
   ],
   "source": [
    "plot_degree_dist(graph)"
   ]
  },
  {
   "cell_type": "markdown",
   "metadata": {},
   "source": [
    "## 1b) Local clustering coefficient"
   ]
  },
  {
   "cell_type": "code",
   "execution_count": 8,
   "metadata": {},
   "outputs": [
    {
     "name": "stdout",
     "output_type": "stream",
     "text": [
      "Clustering of all nodes: [1.         0.66666667 0.66666667 0.2        1.         1.\n",
      " 0.        ]\n"
     ]
    }
   ],
   "source": [
    "vcc = []\n",
    "for i in graph.nodes():\n",
    "    vcc.append(nx.clustering(graph, i))\n",
    "vcc= np.array(vcc)\n",
    "print('Clustering of all nodes:', vcc)"
   ]
  },
  {
   "cell_type": "markdown",
   "metadata": {},
   "source": [
    "## c) Transitivity"
   ]
  },
  {
   "cell_type": "code",
   "execution_count": 9,
   "metadata": {},
   "outputs": [
    {
     "name": "stdout",
     "output_type": "stream",
     "text": [
      "Transitivity =  0.4737\n"
     ]
    }
   ],
   "source": [
    "CC = (nx.transitivity(graph)) \n",
    "print(\"Transitivity = \",\"%3.4f\"%CC)"
   ]
  },
  {
   "cell_type": "markdown",
   "metadata": {},
   "source": [
    "## d) Distance matrix,"
   ]
  },
  {
   "cell_type": "code",
   "execution_count": 10,
   "metadata": {},
   "outputs": [
    {
     "data": {
      "text/plain": [
       "matrix([[0., 1., 2., 1., 3., 3., 3.],\n",
       "        [1., 0., 1., 1., 2., 2., 2.],\n",
       "        [2., 1., 0., 1., 1., 1., 1.],\n",
       "        [1., 1., 1., 0., 2., 2., 2.],\n",
       "        [3., 2., 1., 2., 0., 2., 2.],\n",
       "        [3., 2., 1., 2., 2., 0., 1.],\n",
       "        [3., 2., 1., 2., 2., 1., 0.]])"
      ]
     },
     "execution_count": 10,
     "metadata": {},
     "output_type": "execute_result"
    }
   ],
   "source": [
    "nx.floyd_warshall_numpy(graph, nodelist=sorted(graph.nodes))"
   ]
  },
  {
   "cell_type": "markdown",
   "metadata": {},
   "source": [
    "## e) Entropy of the degree distribution"
   ]
  },
  {
   "cell_type": "code",
   "execution_count": 11,
   "metadata": {
    "code_folding": [
     0
    ]
   },
   "outputs": [],
   "source": [
    "def shannon_entropy(G):\n",
    "    k,Pk = degree_distribution(G)\n",
    "    H = 0\n",
    "    for p in Pk:\n",
    "        if(p > 0):\n",
    "            H = H - p*math.log(p, 2)\n",
    "    return H\n",
    "\n"
   ]
  },
  {
   "cell_type": "code",
   "execution_count": 12,
   "metadata": {},
   "outputs": [
    {
     "data": {
      "text/plain": [
       "1.8423709931771088"
      ]
     },
     "execution_count": 12,
     "metadata": {},
     "output_type": "execute_result"
    }
   ],
   "source": [
    "shannon_entropy(graph)"
   ]
  },
  {
   "cell_type": "markdown",
   "metadata": {},
   "source": [
    "## f) Second moment of the degree distribution."
   ]
  },
  {
   "cell_type": "code",
   "execution_count": 13,
   "metadata": {
    "code_folding": [
     0
    ]
   },
   "outputs": [],
   "source": [
    "def momment_of_degree_distribution2(G,m):\n",
    "    M = 0\n",
    "    N = len(G)\n",
    "    for i in G.nodes:\n",
    "        M = M + G.degree(i)**m\n",
    "    M = M/N\n",
    "    return M\n"
   ]
  },
  {
   "cell_type": "code",
   "execution_count": 14,
   "metadata": {},
   "outputs": [
    {
     "name": "stdout",
     "output_type": "stream",
     "text": [
      "Second moment of the degree distribution =  8.0\n"
     ]
    }
   ],
   "source": [
    "k2 = momment_of_degree_distribution2(graph, 2)\n",
    "print(\"Second moment of the degree distribution = \", k2)"
   ]
  },
  {
   "cell_type": "markdown",
   "metadata": {},
   "source": [
    "\n",
    "\n",
    "- - - \n",
    "\n",
    "<br>\n",
    "<br>\n",
    "<br>\n",
    "<br>\n",
    "<br>\n",
    "<br>\n",
    "<br>\n",
    "<br>\n",
    "<br>\n",
    "<br>\n",
    "<br>\n",
    "<br>"
   ]
  },
  {
   "cell_type": "markdown",
   "metadata": {},
   "source": [
    "# Q2"
   ]
  },
  {
   "cell_type": "code",
   "execution_count": 15,
   "metadata": {},
   "outputs": [],
   "source": [
    "def graph_to_undirected(graph, sum_edges=True, testing=False):   \n",
    "    \"\"\"Converts a graph to it's undirecte version. \n",
    "    If not sum_edges, we simply use the value of the 'last' edge when iterating.\n",
    "    Otherwise, we sum the value of the incoming/outcoming edge.\n",
    "    \"\"\"\n",
    "    if sum_edges:\n",
    "        new_g = nx.Graph()\n",
    "        new_g.add_edges_from(graph.edges, weight=0)\n",
    "        for u, v in graph.edges:\n",
    "            new_g[u][v]['weight'] += graph[u][v]['weight']\n",
    "        new_g\n",
    "    else:\n",
    "        new_g = graph.to_undirected()\n",
    "\n",
    "    # Quick test to show our implementation is correct\n",
    "    if testing:\n",
    "        graph = nx.DiGraph()\n",
    "        graph.add_edge(2, 1, weight=1)\n",
    "        graph.add_edge(1, 2, weight=2)\n",
    "        print(\"Before:\")\n",
    "        visualize(graph)\n",
    "        print(\"After:\")\n",
    "        visualize(graph_to_undirected(graph))\n",
    "    \n",
    "    return new_g\n",
    "\n",
    "def graph_to_unweighted(graph, min_weight=1, testing=False):\n",
    "    \"\"\"Converts a graph to it's unweighted version. \n",
    "    Any edge with weight >= min_weight is included.\n",
    "    \"\"\"\n",
    "    Gnew = nx.Graph()\n",
    "    for (u,v,w) in graph.edges(data=True):\n",
    "        if w['weight'] >= min_weight :\n",
    "            Gnew.add_edge(u, v)\n",
    "    \n",
    "    if testing:\n",
    "        graph = nx.Graph()\n",
    "        graph.add_edge(1, 2, weight=1)\n",
    "        graph.add_edge(2, 3, weight=2)\n",
    "        graph.add_edge(3, 4, weight=3)\n",
    "        print(\"Before:\")\n",
    "        visualize(graph)\n",
    "        print(\"After:\")\n",
    "        visualize(graph_to_unweighted(graph, 3))\n",
    "\n",
    "    return Gnew\n",
    "\n",
    "    \n",
    "def read_lesmis(filename, digraph=True):   \n",
    "    \"\"\"Reads the lesmis dataset\"\"\"\n",
    "    # Read the directed network\n",
    "    graph = nx.read_edgelist(filename, nodetype=int, data=(('weight',float),),\n",
    "                            create_using=nx.DiGraph) \n",
    "    return graph"
   ]
  },
  {
   "cell_type": "code",
   "execution_count": 16,
   "metadata": {},
   "outputs": [
    {
     "name": "stdout",
     "output_type": "stream",
     "text": [
      "Weighted: \n"
     ]
    },
    {
     "name": "stderr",
     "output_type": "stream",
     "text": [
      "/usr/local/lib/python3.6/dist-packages/networkx/drawing/nx_pylab.py:611: MatplotlibDeprecationWarning: isinstance(..., numbers.Number)\n",
      "  if cb.is_numlike(alpha):\n"
     ]
    },
    {
     "data": {
      "image/png": "[encoded data removed]",
      "text/plain": [
       "<Figure size 864x576 with 1 Axes>"
      ]
     },
     "metadata": {},
     "output_type": "display_data"
    },
    {
     "name": "stdout",
     "output_type": "stream",
     "text": [
      "Unweighted: \n"
     ]
    },
    {
     "data": {
      "image/png": "[encoded data removed]",
      "text/plain": [
       "<Figure size 864x576 with 1 Axes>"
      ]
     },
     "metadata": {},
     "output_type": "display_data"
    }
   ],
   "source": [
    "g_lesmis = read_lesmis(\"data/nets/lesmis.txt\")\n",
    "g_lesmis = graph_to_undirected(g_lesmis, sum_edges=True)\n",
    "print(\"Weighted: \")\n",
    "visualize(g_lesmis, big=True)\n",
    "print(\"Unweighted: \")\n",
    "visualize(graph_to_unweighted(g_lesmis), big=True)"
   ]
  },
  {
   "cell_type": "markdown",
   "metadata": {},
   "source": [
    "\n",
    "\n",
    "- - - \n",
    "\n",
    "<br>\n",
    "<br>\n",
    "<br>\n",
    "<br>\n",
    "<br>\n",
    "<br>\n",
    "<br>\n",
    "<br>\n",
    "<br>\n",
    "<br>\n",
    "<br>\n",
    "<br>"
   ]
  },
  {
   "cell_type": "markdown",
   "metadata": {},
   "source": [
    "# Q3"
   ]
  },
  {
   "cell_type": "code",
   "execution_count": 80,
   "metadata": {},
   "outputs": [],
   "source": [
    "# Read the data\n",
    "G = read_lesmis(\"data/nets/lesmis.txt\")\n",
    "G = graph_to_undirected(G, sum_edges=True)\n",
    "G = graph_to_unweighted(G)"
   ]
  },
  {
   "cell_type": "code",
   "execution_count": 158,
   "metadata": {
    "code_folding": [],
    "scrolled": true
   },
   "outputs": [],
   "source": [
    "# let networkx return the adjacency matrix A\n",
    "A = nx.adj_matrix(G)\n",
    "A = A.todense()\n",
    "A = np.array(A, dtype = np.float64)\n",
    "\n",
    "# define walk length and starting idx\n",
    "# we start with a random point\n",
    "walk_length = 100*len(G.nodes)\n",
    "repetitions=10\n",
    "visited = np.zeros(len(G.nodes))\n",
    "\n",
    "for i in range(repetitions):\n",
    "    # Use this to start with the node with the highest amount of neighbours\n",
    "    #current = A.sum(axis=0).argmax()\n",
    "    current = np.random.randint(len(G.nodes))\n",
    "    for _ in range(walk_length):\n",
    "        # Get the list of possible nodes at current step\n",
    "        possible_nodes = np.flatnonzero(A[current])\n",
    "        # Go the next node\n",
    "        next_node = np.random.choice(possible_nodes)\n",
    "        visited[next_node] += 1\n",
    "        #visited.append(next_node)\n",
    "        current = next_node"
   ]
  },
  {
   "cell_type": "code",
   "execution_count": 159,
   "metadata": {},
   "outputs": [
    {
     "data": {
      "text/plain": [
       "array([ 140., 1494.,  465.,  415.,  140.,  158.,  165.,  148.,  150.,\n",
       "        137., 5519.,  137.,  306.,  151.,  158.,  162., 2248., 1583.,\n",
       "       2374., 1673., 2655.,  666., 1279.,  556.,  175.,  322.,  989.,\n",
       "        927.,  918.,  963.,  936.,  466.,  323., 3255., 1037., 1084.,\n",
       "       2760., 2255., 1930., 1612., 1547., 1584., 1428.,  430.,  258.,\n",
       "       1078., 1327., 1117., 1160., 1106., 1104., 1139., 1627.,  454.,\n",
       "        315.,  463.,  151., 1151.,  633.,  151., 1628., 1622., 1326.,\n",
       "       1600., 1897., 1713., 1760., 1460.,  316.,  306.,  991.,  278.,\n",
       "        276.,  326.,  155.,  157.,  135.])"
      ]
     },
     "execution_count": 159,
     "metadata": {},
     "output_type": "execute_result"
    }
   ],
   "source": [
    "visited"
   ]
  },
  {
   "cell_type": "code",
   "execution_count": 160,
   "metadata": {},
   "outputs": [
    {
     "data": {
      "text/plain": [
       "(0.9987035536721153, 9.329756823987865e-99)"
      ]
     },
     "execution_count": 160,
     "metadata": {},
     "output_type": "execute_result"
    }
   ],
   "source": [
    "pearsonr(visited, A.sum(axis=0))"
   ]
  },
  {
   "cell_type": "markdown",
   "metadata": {},
   "source": [
    "Sim, está altamente correlacionado!"
   ]
  },
  {
   "cell_type": "markdown",
   "metadata": {},
   "source": [
    "\n",
    "\n",
    "- - - \n",
    "\n",
    "<br>\n",
    "<br>\n",
    "<br>\n",
    "<br>\n",
    "<br>\n",
    "<br>\n",
    "<br>\n",
    "<br>\n",
    "<br>\n",
    "<br>\n",
    "<br>\n",
    "<br>"
   ]
  },
  {
   "cell_type": "markdown",
   "metadata": {},
   "source": [
    "# Q4"
   ]
  },
  {
   "cell_type": "markdown",
   "metadata": {},
   "source": [
    "## a)"
   ]
  },
  {
   "cell_type": "code",
   "execution_count": 178,
   "metadata": {},
   "outputs": [],
   "source": [
    "graph = create_pdf_network()"
   ]
  },
  {
   "cell_type": "code",
   "execution_count": 179,
   "metadata": {},
   "outputs": [],
   "source": [
    "def power_transition_matrix(G, power):\n",
    "    transition_matrix = nx.google_matrix(G, alpha=1)\n",
    "    return transition_matrix**power"
   ]
  },
  {
   "cell_type": "code",
   "execution_count": 181,
   "metadata": {
    "scrolled": true
   },
   "outputs": [
    {
     "data": {
      "text/plain": [
       "matrix([[0.11111111, 0.16666667, 0.16666667, 0.27777778, 0.11111111,\n",
       "         0.11111111, 0.05555556],\n",
       "        [0.11111111, 0.16666667, 0.16666667, 0.27777778, 0.11111111,\n",
       "         0.11111111, 0.05555556],\n",
       "        [0.11111111, 0.16666667, 0.16666667, 0.27777778, 0.11111111,\n",
       "         0.11111111, 0.05555556],\n",
       "        [0.11111111, 0.16666667, 0.16666667, 0.27777778, 0.11111111,\n",
       "         0.11111111, 0.05555556],\n",
       "        [0.11111111, 0.16666667, 0.16666667, 0.27777778, 0.11111111,\n",
       "         0.11111111, 0.05555556],\n",
       "        [0.11111111, 0.16666667, 0.16666667, 0.27777778, 0.11111111,\n",
       "         0.11111111, 0.05555556],\n",
       "        [0.11111111, 0.16666667, 0.16666667, 0.27777778, 0.11111111,\n",
       "         0.11111111, 0.05555556]])"
      ]
     },
     "execution_count": 181,
     "metadata": {},
     "output_type": "execute_result"
    }
   ],
   "source": [
    "power_transition_matrix(graph, 1000)"
   ]
  },
  {
   "cell_type": "markdown",
   "metadata": {},
   "source": [
    "Ele converge!"
   ]
  },
  {
   "cell_type": "code",
   "execution_count": null,
   "metadata": {},
   "outputs": [],
   "source": []
  },
  {
   "cell_type": "code",
   "execution_count": null,
   "metadata": {},
   "outputs": [],
   "source": []
  },
  {
   "cell_type": "code",
   "execution_count": null,
   "metadata": {},
   "outputs": [],
   "source": []
  },
  {
   "cell_type": "markdown",
   "metadata": {},
   "source": [
    "## b)"
   ]
  },
  {
   "cell_type": "markdown",
   "metadata": {},
   "source": [
    "$$ ((Aij)^3, Dij) $$ for i, j= 1, . . . , N"
   ]
  },
  {
   "cell_type": "code",
   "execution_count": 194,
   "metadata": {},
   "outputs": [],
   "source": [
    "def create_scatter_plot(power_matrix, dists, plot=True):\n",
    "    x = []\n",
    "    y = []\n",
    "    for i in range(len(graph.nodes)):\n",
    "        for j in range(len(graph.nodes)):\n",
    "            x.append(power_matrix[i, j])\n",
    "            y.append(dists[i, j])\n",
    "    if plot:\n",
    "        sns.scatterplot(x, y)\n",
    "        plt.show()\n",
    "    return x, y"
   ]
  },
  {
   "cell_type": "code",
   "execution_count": 197,
   "metadata": {},
   "outputs": [
    {
     "data": {
      "image/png": "[encoded data removed]",
      "text/plain": [
       "<Figure size 432x288 with 1 Axes>"
      ]
     },
     "metadata": {},
     "output_type": "display_data"
    }
   ],
   "source": [
    "power_matrix = power_transition_matrix(graph, 3)\n",
    "dists = nx.floyd_warshall_numpy(graph, nodelist=sorted(graph.nodes))\n",
    "create_scatter_plot(power_matrix, dists);"
   ]
  },
  {
   "cell_type": "code",
   "execution_count": null,
   "metadata": {},
   "outputs": [],
   "source": []
  },
  {
   "cell_type": "code",
   "execution_count": null,
   "metadata": {},
   "outputs": [],
   "source": []
  },
  {
   "cell_type": "markdown",
   "metadata": {},
   "source": [
    "## c)"
   ]
  },
  {
   "cell_type": "markdown",
   "metadata": {},
   "source": [
    "c) Verify how the Pearson correlation betweenDandPnvaries withn.  More specifically,construct a scatterplot forn= 1,2, ...and calculate the correlation for each case.  Then, plot thecorrelation in function ofn."
   ]
  },
  {
   "cell_type": "code",
   "execution_count": 206,
   "metadata": {},
   "outputs": [],
   "source": [
    "corrs = []\n",
    "limit = 100\n",
    "\n",
    "dists = nx.floyd_warshall_numpy(graph, nodelist=sorted(graph.nodes))\n",
    "for i in range(1, limit):\n",
    "    power_matrix = power_transition_matrix(graph, i)\n",
    "    x, y = create_scatter_plot(power_matrix, dists, plot=False);\n",
    "    corrs.append(pearsonr(x, y)[0])"
   ]
  },
  {
   "cell_type": "code",
   "execution_count": 207,
   "metadata": {},
   "outputs": [
    {
     "data": {
      "text/plain": [
       "<matplotlib.axes._subplots.AxesSubplot at 0x7f265d7c4550>"
      ]
     },
     "execution_count": 207,
     "metadata": {},
     "output_type": "execute_result"
    },
    {
     "data": {
      "image/png": "[encoded data removed]",
      "text/plain": [
       "<Figure size 432x288 with 1 Axes>"
      ]
     },
     "metadata": {},
     "output_type": "display_data"
    }
   ],
   "source": [
    "sns.scatterplot(list(range(1, limit)), corrs)"
   ]
  },
  {
   "cell_type": "code",
   "execution_count": 201,
   "metadata": {},
   "outputs": [
    {
     "data": {
      "text/plain": [
       "[(0.1206908424158188, 0.408774584819661),\n",
       " (-0.718176830999804, 6.279517877442194e-09),\n",
       " (0.013874712419211762, 0.9246164880823524),\n",
       " (-0.5541630630387857, 3.610673719365169e-05),\n",
       " (-0.08057513243578214, 0.5820713733476426),\n",
       " (-0.3797641146855711, 0.007115926049293611),\n",
       " (-0.13220654611911165, 0.36517997991043794),\n",
       " (-0.27549410379201095, 0.05537367696372381),\n",
       " (-0.15644375810975908, 0.2830636405159444),\n",
       " (-0.22452597627878418, 0.1209052270882958),\n",
       " (-0.1679214522780302, 0.24878009290079198),\n",
       " (-0.20059173189865895, 0.1669758604076678),\n",
       " (-0.1735756162120409, 0.23297025630050977),\n",
       " (-0.18937876182687688, 0.1924862900951344),\n",
       " (-0.17642890046743837, 0.22525972237080963),\n",
       " (-0.18410675701687376, 0.2053931256520581),\n",
       " (-0.17788152978789798, 0.22140274793527365),\n",
       " (-0.18161939790047935, 0.21168934143554385),\n",
       " (-0.17862154394819224, 0.21945559571489037),\n",
       " (-0.18044271139787274, 0.21471442444536296),\n",
       " (-0.17899745639244005, 0.21847105070887637),\n",
       " (-0.17988491318958277, 0.21615892369280654),\n",
       " (-0.1791876475209036, 0.21797409643837978),\n",
       " (-0.17962005082716773, 0.21684718826568447),\n",
       " (-0.1792834741059942, 0.21772400730067984),\n",
       " (-0.17949410395313228, 0.2171750052837605),\n",
       " (-0.17933156707613276, 0.21759856906760436),\n",
       " (-0.17943413689323442, 0.2173312098865386),\n",
       " (-0.17935561844613102, 0.21753585607456424),\n",
       " (-0.1794055510655024, 0.2174056989098057),\n",
       " (-0.1793676087495781, 0.21750459653201681),\n",
       " (-0.17939190941997174, 0.21744125260621697),\n",
       " (-0.1793735696309847, 0.21748905726903853),\n",
       " (-0.17938539265691694, 0.2174582384232556),\n",
       " (-0.17937652574567842, 0.21748135133891822),\n",
       " (-0.1793822764895942, 0.2174663609794994),\n",
       " (-0.1793779885472814, 0.21747753821243965),\n",
       " (-0.17938078503613522, 0.21747024865500894),\n",
       " (-0.17937871100029934, 0.2174756549908037),\n",
       " (-0.17938007057854904, 0.2174721110026391),\n",
       " (-0.17937906719412045, 0.2174747265028943),\n",
       " (-0.1793797280477025, 0.21747300386784765),\n",
       " (-0.17937924254025236, 0.21747426943038578),\n",
       " (-0.17937956370178337, 0.21747343226448665),\n",
       " (-0.17937932874063217, 0.21747404473321005),\n",
       " (-0.17937948479134533, 0.21747363795867677),\n",
       " (-0.1793793710646356, 0.21747393440795473),\n",
       " (-0.17937944687666993, 0.21747373679011783),\n",
       " (-0.17937939182250642, 0.2174738802987822),\n",
       " (-0.17937942864781345, 0.21747378430693023),\n",
       " (-0.1793794019930682, 0.21747385378736156),\n",
       " (-0.1793794198783438, 0.21747380716614137),\n",
       " (-0.1793794069717597, 0.21747384080949878),\n",
       " (-0.17937941565717758, 0.21747381816937914),\n",
       " (-0.17937940940693944, 0.21747383446175952),\n",
       " (-0.1793794136242539, 0.21747382346856378),\n",
       " (-0.17937941059715518, 0.21747383135924628),\n",
       " (-0.17937941264470958, 0.21747382602192492),\n",
       " (-0.17937941117849343, 0.2174738298438818),\n",
       " (-0.17937941217250802, 0.21747382725280132),\n",
       " (-0.179379411462264, 0.21747382910418178),\n",
       " (-0.1793794119447796, 0.21747382784641972),\n",
       " (-0.17937941160070495, 0.21747382874331117),\n",
       " (-0.1793794118349089, 0.21747382813281665),\n",
       " (-0.1793794116682109, 0.21747382856734507),\n",
       " (-0.1793794117818806, 0.21747382827104536),\n",
       " (-0.17937941170111277, 0.21747382848158056),\n",
       " (-0.17937941175627786, 0.2174738283377834),\n",
       " (-0.17937941171714217, 0.2174738284397976),\n",
       " (-0.17937941174391264, 0.21747382837001575),\n",
       " (-0.1793794117249484, 0.21747382841944693),\n",
       " (-0.17937941173793892, 0.2174738283855864),\n",
       " (-0.1793794117287487, 0.217473828409541),\n",
       " (-0.17937941173505204, 0.21747382839311138),\n",
       " (-0.17937941173059832, 0.21747382840472113),\n",
       " (-0.17937941173365657, 0.21747382839674942),\n",
       " (-0.17937941173149805, 0.2174738284023769),\n",
       " (-0.17937941173298197, 0.21747382839850787),\n",
       " (-0.17937941173193586, 0.2174738284012339),\n",
       " (-0.17937941173265573, 0.21747382839935908),\n",
       " (-0.17937941173214852, 0.21747382840067933),\n",
       " (-0.17937941173249794, 0.21747382839977045),\n",
       " (-0.17937941173225205, 0.21747382840041027),\n",
       " (-0.1793794117324216, 0.2174738283999688),\n",
       " (-0.17937941173230235, 0.2174738284002787),\n",
       " (-0.17937941173238459, 0.21747382840006427),\n",
       " (-0.17937941173232688, 0.2174738284002144),\n",
       " (-0.17937941173236674, 0.21747382840011062),\n",
       " (-0.1793794117323387, 0.21747382840018456),\n",
       " (-0.17937941173235805, 0.2174738284001347),\n",
       " (-0.17937941173234448, 0.21747382840016902),\n",
       " (-0.17937941173235383, 0.21747382840014426),\n",
       " (-0.17937941173234725, 0.21747382840016213),\n",
       " (-0.17937941173235192, 0.2174738284001492),\n",
       " (-0.1793794117323487, 0.2174738284001591),\n",
       " (-0.17937941173235092, 0.21747382840015145),\n",
       " (-0.17937941173234928, 0.21747382840015733),\n",
       " (-0.17937941173235045, 0.21747382840015314),\n",
       " (-0.1793794117323496, 0.2174738284001561)]"
      ]
     },
     "execution_count": 201,
     "metadata": {},
     "output_type": "execute_result"
    }
   ],
   "source": [
    "corrs"
   ]
  },
  {
   "cell_type": "code",
   "execution_count": null,
   "metadata": {},
   "outputs": [],
   "source": []
  },
  {
   "cell_type": "markdown",
   "metadata": {},
   "source": [
    "\n",
    "\n",
    "- - - \n",
    "\n",
    "<br>\n",
    "<br>\n",
    "<br>\n",
    "<br>\n",
    "<br>\n",
    "<br>\n",
    "<br>\n",
    "<br>\n",
    "<br>\n",
    "<br>\n",
    "<br>\n",
    "<br>"
   ]
  },
  {
   "cell_type": "markdown",
   "metadata": {},
   "source": [
    "# Q5"
   ]
  },
  {
   "cell_type": "code",
   "execution_count": null,
   "metadata": {},
   "outputs": [],
   "source": []
  },
  {
   "cell_type": "code",
   "execution_count": null,
   "metadata": {},
   "outputs": [],
   "source": []
  },
  {
   "cell_type": "code",
   "execution_count": null,
   "metadata": {},
   "outputs": [],
   "source": []
  },
  {
   "cell_type": "code",
   "execution_count": null,
   "metadata": {},
   "outputs": [],
   "source": []
  },
  {
   "cell_type": "code",
   "execution_count": null,
   "metadata": {},
   "outputs": [],
   "source": []
  },
  {
   "cell_type": "code",
   "execution_count": null,
   "metadata": {},
   "outputs": [],
   "source": []
  },
  {
   "cell_type": "markdown",
   "metadata": {},
   "source": [
    "\n",
    "\n",
    "- - - \n",
    "\n",
    "<br>\n",
    "<br>\n",
    "<br>\n",
    "<br>\n",
    "<br>\n",
    "<br>\n",
    "<br>\n",
    "<br>\n",
    "<br>\n",
    "<br>\n",
    "<br>\n",
    "<br>"
   ]
  },
  {
   "cell_type": "markdown",
   "metadata": {},
   "source": [
    "# Q6"
   ]
  },
  {
   "cell_type": "code",
   "execution_count": null,
   "metadata": {},
   "outputs": [],
   "source": []
  },
  {
   "cell_type": "code",
   "execution_count": null,
   "metadata": {},
   "outputs": [],
   "source": []
  },
  {
   "cell_type": "code",
   "execution_count": null,
   "metadata": {},
   "outputs": [],
   "source": []
  },
  {
   "cell_type": "code",
   "execution_count": null,
   "metadata": {},
   "outputs": [],
   "source": []
  },
  {
   "cell_type": "code",
   "execution_count": null,
   "metadata": {},
   "outputs": [],
   "source": []
  },
  {
   "cell_type": "code",
   "execution_count": null,
   "metadata": {},
   "outputs": [],
   "source": []
  },
  {
   "cell_type": "markdown",
   "metadata": {},
   "source": [
    "\n",
    "\n",
    "- - - \n",
    "\n",
    "<br>\n",
    "<br>\n",
    "<br>\n",
    "<br>\n",
    "<br>\n",
    "<br>\n",
    "<br>\n",
    "<br>\n",
    "<br>\n",
    "<br>\n",
    "<br>\n",
    "<br>"
   ]
  },
  {
   "cell_type": "markdown",
   "metadata": {},
   "source": [
    "# Q7"
   ]
  },
  {
   "cell_type": "code",
   "execution_count": null,
   "metadata": {},
   "outputs": [],
   "source": []
  },
  {
   "cell_type": "code",
   "execution_count": null,
   "metadata": {},
   "outputs": [],
   "source": []
  },
  {
   "cell_type": "code",
   "execution_count": null,
   "metadata": {},
   "outputs": [],
   "source": []
  },
  {
   "cell_type": "code",
   "execution_count": null,
   "metadata": {},
   "outputs": [],
   "source": []
  },
  {
   "cell_type": "code",
   "execution_count": null,
   "metadata": {},
   "outputs": [],
   "source": []
  },
  {
   "cell_type": "markdown",
   "metadata": {},
   "source": [
    "\n",
    "\n",
    "- - - \n",
    "\n",
    "<br>\n",
    "<br>\n",
    "<br>\n",
    "<br>\n",
    "<br>\n",
    "<br>\n",
    "<br>\n",
    "<br>\n",
    "<br>\n",
    "<br>\n",
    "<br>\n",
    "<br>"
   ]
  },
  {
   "cell_type": "markdown",
   "metadata": {},
   "source": [
    "# Q8"
   ]
  },
  {
   "cell_type": "code",
   "execution_count": null,
   "metadata": {},
   "outputs": [],
   "source": []
  },
  {
   "cell_type": "code",
   "execution_count": null,
   "metadata": {},
   "outputs": [],
   "source": []
  },
  {
   "cell_type": "code",
   "execution_count": null,
   "metadata": {},
   "outputs": [],
   "source": []
  },
  {
   "cell_type": "code",
   "execution_count": null,
   "metadata": {},
   "outputs": [],
   "source": []
  },
  {
   "cell_type": "code",
   "execution_count": null,
   "metadata": {},
   "outputs": [],
   "source": []
  },
  {
   "cell_type": "code",
   "execution_count": null,
   "metadata": {},
   "outputs": [],
   "source": []
  },
  {
   "cell_type": "markdown",
   "metadata": {},
   "source": [
    "\n",
    "\n",
    "- - - \n",
    "\n",
    "<br>\n",
    "<br>\n",
    "<br>\n",
    "<br>\n",
    "<br>\n",
    "<br>\n",
    "<br>\n",
    "<br>\n",
    "<br>\n",
    "<br>\n",
    "<br>\n",
    "<br>"
   ]
  },
  {
   "cell_type": "markdown",
   "metadata": {},
   "source": [
    "# Q9"
   ]
  },
  {
   "cell_type": "code",
   "execution_count": null,
   "metadata": {},
   "outputs": [],
   "source": []
  },
  {
   "cell_type": "code",
   "execution_count": null,
   "metadata": {},
   "outputs": [],
   "source": []
  },
  {
   "cell_type": "code",
   "execution_count": null,
   "metadata": {},
   "outputs": [],
   "source": []
  },
  {
   "cell_type": "code",
   "execution_count": null,
   "metadata": {},
   "outputs": [],
   "source": []
  },
  {
   "cell_type": "code",
   "execution_count": null,
   "metadata": {},
   "outputs": [],
   "source": []
  },
  {
   "cell_type": "markdown",
   "metadata": {},
   "source": [
    "\n",
    "\n",
    "- - - \n",
    "\n",
    "<br>\n",
    "<br>\n",
    "<br>\n",
    "<br>\n",
    "<br>\n",
    "<br>\n",
    "<br>\n",
    "<br>\n",
    "<br>\n",
    "<br>\n",
    "<br>\n",
    "<br>"
   ]
  },
  {
   "cell_type": "markdown",
   "metadata": {},
   "source": [
    "# Q10"
   ]
  },
  {
   "cell_type": "code",
   "execution_count": null,
   "metadata": {},
   "outputs": [],
   "source": []
  }
 ],
 "metadata": {
  "kernelspec": {
   "display_name": "Python 3",
   "language": "python",
   "name": "python3"
  },
  "language_info": {
   "codemirror_mode": {
    "name": "ipython",
    "version": 3
   },
   "file_extension": ".py",
   "mimetype": "text/x-python",
   "name": "python",
   "nbconvert_exporter": "python",
   "pygments_lexer": "ipython3",
   "version": "3.6.5rc1"
  },
  "toc": {
   "base_numbering": 1,
   "nav_menu": {},
   "number_sections": true,
   "sideBar": true,
   "skip_h1_title": false,
   "title_cell": "Table of Contents",
   "title_sidebar": "Contents",
   "toc_cell": false,
   "toc_position": {},
   "toc_section_display": true,
   "toc_window_display": false
  }
 },
 "nbformat": 4,
 "nbformat_minor": 2
}
